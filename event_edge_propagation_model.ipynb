{
 "cells": [
  {
   "cell_type": "code",
   "execution_count": 5,
   "metadata": {},
   "outputs": [],
   "source": [
    "from __future__ import division\n",
    "from sympy import *\n",
    "x, y, z, t = symbols('x y z t', real = True)\n",
    "k, m, n = symbols('k m n', integer=True)\n",
    "f, g, h = symbols('f g h', cls=Function)\n",
    "a, L, h, d, v, tp, t0, x1 = symbols('a L h d v tp t0 x1', real=True)\n",
    "i = symbols('i', integer = True)"
   ]
  },
  {
   "cell_type": "code",
   "execution_count": 10,
   "metadata": {},
   "outputs": [],
   "source": [
    "t1 = (L*i+d/2)/v\n",
    "t2 = t1 + h/v\n",
    "t3 = t2 + (d-h)/v\n",
    "t4 = t3 + h/v"
   ]
  },
  {
   "cell_type": "code",
   "execution_count": 47,
   "metadata": {},
   "outputs": [
    {
     "data": {
      "text/latex": [
       "$\\displaystyle \\frac{d - h}{v}$"
      ],
      "text/plain": [
       "(d - h)/v"
      ]
     },
     "execution_count": 47,
     "metadata": {},
     "output_type": "execute_result"
    }
   ],
   "source": [
    "t3-t2"
   ]
  },
  {
   "cell_type": "code",
   "execution_count": 42,
   "metadata": {},
   "outputs": [
    {
     "data": {
      "text/latex": [
       "$\\displaystyle \\frac{a h}{2}$"
      ],
      "text/plain": [
       "a*h/2"
      ]
     },
     "execution_count": 42,
     "metadata": {},
     "output_type": "execute_result"
    }
   ],
   "source": [
    "e12.subs(t,t2)"
   ]
  },
  {
   "cell_type": "code",
   "execution_count": 46,
   "metadata": {},
   "outputs": [
    {
     "data": {
      "text/latex": [
       "$\\displaystyle \\frac{a \\left(2 d + 3 h\\right)}{2}$"
      ],
      "text/plain": [
       "a*(2*d + 3*h)/2"
      ]
     },
     "execution_count": 46,
     "metadata": {},
     "output_type": "execute_result"
    }
   ],
   "source": [
    "e23.subs(t,t3).simplify()"
   ]
  },
  {
   "cell_type": "code",
   "execution_count": 45,
   "metadata": {},
   "outputs": [
    {
     "data": {
      "text/latex": [
       "$\\displaystyle a \\left(d + 2 h\\right)$"
      ],
      "text/plain": [
       "a*(d + 2*h)"
      ]
     },
     "execution_count": 45,
     "metadata": {},
     "output_type": "execute_result"
    }
   ],
   "source": [
    "e34.subs(t,t4).simplify()"
   ]
  },
  {
   "cell_type": "code",
   "execution_count": 59,
   "metadata": {},
   "outputs": [],
   "source": [
    "e12 = a*v**2/(2*h)*(t-t1)**2\n",
    "e2 = a*h/2\n",
    "e23 = e2 + a*v*(d+h)/(d-h)*(t-t2)\n",
    "e3 = a*(d+3*h/2)\n",
    "e34 = e3 + a*h/2*(1-((v/h)**2)*(t-t4)**2)\n",
    "e4 = a*(d+2*h)\n",
    "e = Piecewise((0,t<t1),(e12, (t1<t)&(t<t2)), (e23, (t2<t)&(t<t3)), (e34, (t3<t)&(t<t4)),(e4,t>t4))"
   ]
  },
  {
   "cell_type": "code",
   "execution_count": 60,
   "metadata": {},
   "outputs": [
    {
     "data": {
      "image/png": "[encoded data removed]",
      "text/plain": [
       "<Figure size 432x288 with 1 Axes>"
      ]
     },
     "metadata": {
      "needs_background": "light"
     },
     "output_type": "display_data"
    },
    {
     "data": {
      "text/plain": [
       "<sympy.plotting.plot.Plot at 0x7efef76d9820>"
      ]
     },
     "execution_count": 60,
     "metadata": {},
     "output_type": "execute_result"
    }
   ],
   "source": [
    "values = [(a,0.1), (L,0.1),(h,0.03),(d,0.04),(v,0.1),(i,1)]\n",
    "\n",
    "plot(e.subs(values),(t,t1.subs(values)-0.1,t4.subs(values)+0.1),depth=10)"
   ]
  },
  {
   "cell_type": "code",
   "execution_count": null,
   "metadata": {},
   "outputs": [],
   "source": []
  }
 ],
 "metadata": {
  "kernelspec": {
   "display_name": "Python 3",
   "language": "python",
   "name": "python3"
  },
  "language_info": {
   "codemirror_mode": {
    "name": "ipython",
    "version": 3
   },
   "file_extension": ".py",
   "mimetype": "text/x-python",
   "name": "python",
   "nbconvert_exporter": "python",
   "pygments_lexer": "ipython3",
   "version": "3.7.10"
  }
 },
 "nbformat": 4,
 "nbformat_minor": 5
}
