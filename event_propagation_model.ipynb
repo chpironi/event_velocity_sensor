{
 "cells": [
  {
   "cell_type": "code",
   "execution_count": 1,
   "metadata": {},
   "outputs": [],
   "source": [
    "from functools  import partial\n",
    "import numpy as np"
   ]
  },
  {
   "cell_type": "code",
   "execution_count": 2,
   "metadata": {},
   "outputs": [],
   "source": [
    "def e(t, v, i, a, L, d, h, t0 = -10):\n",
    "    return (\n",
    "        1/16*((2*L*i - 2*t*v - d + 2*h)*np.abs(-2*L*i + 2*t*v + d - 2*h) - \n",
    "          (2*L*i - 2*t*v - d)*np.abs(-2*L*i + 2*t*v + d) - \n",
    "          (2*L*i - 2*t*v + d + 2*h)*np.abs(-2*L*i + 2*t*v - d - 2*h) + \n",
    "          (2*L*i - 2*t*v + d)*np.abs(-2*L*i + 2*t*v - d) - \n",
    "          (2*L*i - 2*t0*v - d + 2*h)*np.abs(-2*L*i + 2*t0*v + d - 2*h) + \n",
    "          (2*L*i - 2*t0*v - d)*np.abs(-2*L*i + 2*t0*v + d) + \n",
    "          (2*L*i - 2*t0*v + d + 2*h)*np.abs(-2*L*i + 2*t0*v - d - 2*h) - \n",
    "          (2*L*i - 2*t0*v + d)*np.abs(-2*L*i + 2*t0*v - d))*a/h\n",
    "    )\n",
    "\n",
    "def t1(v, i, L, d):\n",
    "    return (L*i+d/2)/v\n",
    "def t2(v, i, L, d):\n",
    "    t1_ = t1(v, i, L, d)\n",
    "    return t1_ + h/v\n",
    "def t3(v, i, L, d):\n",
    "    t2_ = t2(v, i, L, d)\n",
    "    return t2_ + (d-h)/v\n",
    "def t4(v, i, L, d):\n",
    "    t3_ = t3(v, i, L, d)\n",
    "    return t3_ + h/v"
   ]
  },
  {
   "cell_type": "code",
   "execution_count": 3,
   "metadata": {},
   "outputs": [],
   "source": [
    "def simulate_events(\n",
    "    N = 100,\n",
    "    threshold = 0.5,\n",
    "    offset = 5,\n",
    "    a=10, \n",
    "    L=0.1, \n",
    "    h=0.08, \n",
    "    d=0.2, \n",
    "    v=0.4, \n",
    "    t0=0,\n",
    "    t1=100,\n",
    "    t_step = 0.1\n",
    "):\n",
    "\n",
    "    current_em = np.zeros(N)\n",
    "    total_em = np.zeros(N)\n",
    "    events = np.zeros(N)\n",
    "    eNs = []\n",
    "\n",
    "    values = dict(a=a, L=L, h=h, d=d, v=v)\n",
    "    e0 = partial(e, **values)\n",
    "\n",
    "\n",
    "    for time in np.arange(t0,t1,t_step):\n",
    "        pixel = np.arange(N)\n",
    "        this_e = e0(t=time, i = pixel+1)\n",
    "        total_em[pixel] = this_e\n",
    "        eN = total_em[pixel] - current_em[pixel]\n",
    "\n",
    "        event_mask = (eN > threshold)\n",
    "        current_em[event_mask] = total_em[event_mask]\n",
    "        events[event_mask] += 1\n",
    "        \n",
    "    return events"
   ]
  },
  {
   "cell_type": "code",
   "execution_count": 4,
   "metadata": {},
   "outputs": [],
   "source": [
    "vels = np.arange(0,0.1,0.01)\n",
    "events = np.array([simulate_events(v=v) for v in vels])\n",
    "total_events = np.sum(events, axis = 1)\n"
   ]
  },
  {
   "cell_type": "code",
   "execution_count": 5,
   "metadata": {},
   "outputs": [
    {
     "data": {
      "text/plain": [
       "array([0.  , 0.01, 0.02, 0.03, 0.04, 0.05, 0.06, 0.07, 0.08, 0.09])"
      ]
     },
     "execution_count": 5,
     "metadata": {},
     "output_type": "execute_result"
    }
   ],
   "source": [
    "vels"
   ]
  },
  {
   "cell_type": "code",
   "execution_count": null,
   "metadata": {},
   "outputs": [
    {
     "data": {
      "text/plain": [
       "<matplotlib.collections.PathCollection at 0x6ffffd774790>"
      ]
     },
     "execution_count": 12,
     "metadata": {},
     "output_type": "execute_result"
    }
   ],
   "source": [
    "import matplotlib.pyplot as plt\n",
    "plt.scatter(vels, total_events)"
   ]
  },
  {
   "cell_type": "code",
   "execution_count": null,
   "metadata": {},
   "outputs": [],
   "source": []
  },
  {
   "cell_type": "code",
   "execution_count": null,
   "metadata": {},
   "outputs": [],
   "source": []
  }
 ],
 "metadata": {
  "kernelspec": {
   "display_name": "Python 3",
   "language": "python",
   "name": "python3"
  },
  "language_info": {
   "codemirror_mode": {
    "name": "ipython",
    "version": 3
   },
   "file_extension": ".py",
   "mimetype": "text/x-python",
   "name": "python",
   "nbconvert_exporter": "python",
   "pygments_lexer": "ipython3",
   "version": "3.7.10"
  }
 },
 "nbformat": 4,
 "nbformat_minor": 4
}
